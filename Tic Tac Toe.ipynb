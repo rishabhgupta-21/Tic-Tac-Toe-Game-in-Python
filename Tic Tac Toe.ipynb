{
 "cells": [
  {
   "cell_type": "markdown",
   "id": "9eefd6b1",
   "metadata": {},
   "source": [
    "**Step 1: Write a function that can print out a board. Set up your board as a list, where each index 1-9 corresponds with a number (from Top-Left to Bottom-Right), so you get a 3 by 3 board representation.**"
   ]
  },
  {
   "cell_type": "code",
   "execution_count": 1,
   "id": "4190738a",
   "metadata": {},
   "outputs": [],
   "source": [
    "from IPython.display import clear_output"
   ]
  },
  {
   "cell_type": "code",
   "execution_count": 2,
   "id": "af81e550",
   "metadata": {},
   "outputs": [],
   "source": [
    "def display_board(board):   # 3x3 Board (first character as #, so we can use indexes 1-9)\n",
    "    # Clear Output\n",
    "    clear_output()\n",
    "    \n",
    "    horizontal_line = \"-----------------\"\n",
    "    \n",
    "    def vertical_line(x,y,z):\n",
    "        print(\"  \" + x + \"  |\" + \"  \" + y + \"  |\" + \"  \" + z + \"     \")\n",
    "        \n",
    "\n",
    "    vertical_line(\" \", \" \", \" \")\n",
    "    vertical_line(board[1], board[2], board[3])\n",
    "    vertical_line(\" \", \" \", \" \")\n",
    "    \n",
    "    print(horizontal_line)\n",
    "    \n",
    "    vertical_line(\" \", \" \", \" \")\n",
    "    vertical_line(board[4], board[5], board[6])\n",
    "    vertical_line(\" \", \" \", \" \")\n",
    "    \n",
    "    print(horizontal_line)\n",
    "    \n",
    "    vertical_line(\" \", \" \", \" \")\n",
    "    vertical_line(board[7], board[8], board[9])\n",
    "    vertical_line(\" \", \" \", \" \")"
   ]
  },
  {
   "cell_type": "code",
   "execution_count": 3,
   "id": "c863932d",
   "metadata": {},
   "outputs": [
    {
     "name": "stdout",
     "output_type": "stream",
     "text": [
      "     |     |        \n",
      "  X  |  O  |  X     \n",
      "     |     |        \n",
      "-----------------\n",
      "     |     |        \n",
      "  O  |  X  |  O     \n",
      "     |     |        \n",
      "-----------------\n",
      "     |     |        \n",
      "  X  |  O  |  X     \n",
      "     |     |        \n"
     ]
    }
   ],
   "source": [
    "test_board = ['#','X','O','X','O','X','O','X','O','X']\n",
    "display_board(test_board)"
   ]
  },
  {
   "cell_type": "markdown",
   "id": "9e910459",
   "metadata": {},
   "source": [
    "**Step 2: Write a function that can take in a player input and assign their marker as 'X' or 'O'. Think about using *while* loops to continually ask until you get a correct answer.**"
   ]
  },
  {
   "cell_type": "code",
   "execution_count": 4,
   "id": "992dbba5",
   "metadata": {},
   "outputs": [],
   "source": [
    "def player_input():\n",
    "    '''\n",
    "    OUTPUT = Tuple --> (Player 1 Marker, Player 2 Marker)\n",
    "    '''\n",
    "    \n",
    "    player1_marker = None\n",
    "    player2_marker = None\n",
    "    \n",
    "    marker = \"Nothing\"\n",
    "    \n",
    "    while marker not in [\"X\", \"O\"]:\n",
    "        marker = input(\"Choose the marker for Player 1 (X/O): \").upper()\n",
    "        \n",
    "        if marker not in [\"X\", \"O\"]:\n",
    "            print(\"Choose a valid marker.\\n\")\n",
    "            \n",
    "    player1_marker = marker\n",
    "    \n",
    "    if player1_marker == \"X\":\n",
    "        player2_marker = \"O\"\n",
    "    else:\n",
    "        player2_marker = \"X\"\n",
    "        \n",
    "    print(\"\\nPlayer 1's marker is -->\", player1_marker)\n",
    "    print(\"Player 2's marker is -->\", player2_marker)\n",
    "    print(\"\\n\")\n",
    "            \n",
    "    return (player1_marker, player2_marker)"
   ]
  },
  {
   "cell_type": "markdown",
   "id": "d96e798e",
   "metadata": {},
   "source": [
    "TEST"
   ]
  },
  {
   "cell_type": "code",
   "execution_count": 5,
   "id": "b2f0a50f",
   "metadata": {},
   "outputs": [
    {
     "name": "stdout",
     "output_type": "stream",
     "text": [
      "Choose the marker for Player 1 (X/O): x\n",
      "\n",
      "Player 1's marker is --> X\n",
      "Player 2's marker is --> O\n",
      "\n",
      "\n"
     ]
    },
    {
     "data": {
      "text/plain": [
       "('X', 'O')"
      ]
     },
     "execution_count": 5,
     "metadata": {},
     "output_type": "execute_result"
    }
   ],
   "source": [
    "player_input()"
   ]
  },
  {
   "cell_type": "markdown",
   "id": "7976bb17",
   "metadata": {},
   "source": [
    "**Step 3: Write a function that takes in the board list object, a marker ('X' or 'O'), and a desired position (number 1-9) and assigns it to the board.**"
   ]
  },
  {
   "cell_type": "code",
   "execution_count": 6,
   "id": "f231d0fb",
   "metadata": {},
   "outputs": [],
   "source": [
    "def place_marker(board, marker, position):   \n",
    "    board[position] = marker\n",
    "    \n",
    "    return board"
   ]
  },
  {
   "cell_type": "markdown",
   "id": "a7e177d1",
   "metadata": {},
   "source": [
    "TEST"
   ]
  },
  {
   "cell_type": "code",
   "execution_count": 7,
   "id": "fcdb9627",
   "metadata": {},
   "outputs": [
    {
     "name": "stdout",
     "output_type": "stream",
     "text": [
      "     |     |        \n",
      "  X  |  O  |  X     \n",
      "     |     |        \n",
      "-----------------\n",
      "     |     |        \n",
      "  O  |  X  |  O     \n",
      "     |     |        \n",
      "-----------------\n",
      "     |     |        \n",
      "  X  |  $  |  X     \n",
      "     |     |        \n"
     ]
    }
   ],
   "source": [
    "place_marker(test_board,'$',8)\n",
    "display_board(test_board)"
   ]
  },
  {
   "cell_type": "markdown",
   "id": "cf24e5e3",
   "metadata": {},
   "source": [
    "**Step 4: Write a function that takes in a board and a mark (X or O) and then checks to see if that mark has won.**"
   ]
  },
  {
   "cell_type": "code",
   "execution_count": 8,
   "id": "9e910ae0",
   "metadata": {},
   "outputs": [],
   "source": [
    "def win_check(board, marker):\n",
    "    row = 1\n",
    "    column = 1\n",
    "    \n",
    "    for i in range(3):\n",
    "        if board[row] == board[row + 1] == board[row + 2] == marker:\n",
    "            return True\n",
    "        row += 3\n",
    "        \n",
    "    for j in range(3):\n",
    "        if board[column] == board[column + 3] == board[column + 6] == marker:\n",
    "            return True\n",
    "        column += 1\n",
    "        \n",
    "    if board[1] == board[5] == board[9] == marker:\n",
    "        return True\n",
    "    \n",
    "    if board[3] == board[5] == board[7] == marker:\n",
    "        return True\n",
    "    \n",
    "    return False"
   ]
  },
  {
   "cell_type": "markdown",
   "id": "d117abc8",
   "metadata": {},
   "source": [
    "TEST"
   ]
  },
  {
   "cell_type": "code",
   "execution_count": 9,
   "id": "66d522db",
   "metadata": {},
   "outputs": [
    {
     "name": "stdout",
     "output_type": "stream",
     "text": [
      "     |     |        \n",
      "  X  |  O  |  X     \n",
      "     |     |        \n",
      "-----------------\n",
      "     |     |        \n",
      "  O  |  X  |  O     \n",
      "     |     |        \n",
      "-----------------\n",
      "     |     |        \n",
      "  X  |  $  |  X     \n",
      "     |     |        \n"
     ]
    }
   ],
   "source": [
    "display_board(test_board)"
   ]
  },
  {
   "cell_type": "code",
   "execution_count": 10,
   "id": "3657efff",
   "metadata": {},
   "outputs": [
    {
     "data": {
      "text/plain": [
       "True"
      ]
     },
     "execution_count": 10,
     "metadata": {},
     "output_type": "execute_result"
    }
   ],
   "source": [
    "win_check(test_board,'X')"
   ]
  },
  {
   "cell_type": "code",
   "execution_count": 11,
   "id": "efc5118e",
   "metadata": {},
   "outputs": [
    {
     "data": {
      "text/plain": [
       "False"
      ]
     },
     "execution_count": 11,
     "metadata": {},
     "output_type": "execute_result"
    }
   ],
   "source": [
    "win_check(test_board,'O')"
   ]
  },
  {
   "cell_type": "markdown",
   "id": "0177854b",
   "metadata": {},
   "source": [
    "**Step 5: Write a function that uses the random module to randomly decide which player goes first. Return a string of which player went first.**"
   ]
  },
  {
   "cell_type": "code",
   "execution_count": 12,
   "id": "c0bf43eb",
   "metadata": {},
   "outputs": [],
   "source": [
    "import random\n",
    "\n",
    "def choose_first():\n",
    "    num = random.randint(1,2)\n",
    "    \n",
    "    if num == 1:\n",
    "        print(\"Player 1 goes first.\\n\")\n",
    "        return \"p1\"\n",
    "    else:\n",
    "        print(\"Player 2 goes first.\\n\")\n",
    "        return \"p2\""
   ]
  },
  {
   "cell_type": "markdown",
   "id": "4f6c72f0",
   "metadata": {},
   "source": [
    "**Step 6: Write a function that returns a boolean indicating whether a space on the board is freely available.**"
   ]
  },
  {
   "cell_type": "code",
   "execution_count": 13,
   "id": "21bd566a",
   "metadata": {},
   "outputs": [],
   "source": [
    "def space_check(board, position):\n",
    "    return board[position] == \" \""
   ]
  },
  {
   "cell_type": "markdown",
   "id": "b12f04cb",
   "metadata": {},
   "source": [
    "**Step 7: Write a function that checks if the board is full and returns a boolean value. True if full, False otherwise.**"
   ]
  },
  {
   "cell_type": "code",
   "execution_count": 14,
   "id": "4d0b7289",
   "metadata": {},
   "outputs": [],
   "source": [
    "def full_board_check(board):\n",
    "    for pos in range(1, 10):\n",
    "        if board[pos] == \" \":      # if space_check(board, i) == True\n",
    "            return False\n",
    "        \n",
    "    return True"
   ]
  },
  {
   "cell_type": "markdown",
   "id": "88c68102",
   "metadata": {},
   "source": [
    "**Step 8: Write a function that asks for a player's next position (as a number 1-9) and then uses the function from step 6 to check if it's a free position. If it is, then return the position for later use.**"
   ]
  },
  {
   "cell_type": "code",
   "execution_count": 15,
   "id": "978e857b",
   "metadata": {},
   "outputs": [],
   "source": [
    "def player_choice(board):\n",
    "    choice = \"100\"\n",
    "    acceptable_choices = ['1', '2', '3', '4', '5', '6', '7', '8', '9']\n",
    "    valid = False\n",
    "    available = False\n",
    "    \n",
    "    while valid == False or available == False:\n",
    "        choice = input(\"Choose your next position: \")\n",
    "        \n",
    "        if choice not in acceptable_choices:\n",
    "            print(\"Choose a valid position.\\n\")\n",
    "            valid = False\n",
    "            \n",
    "        if choice in acceptable_choices:\n",
    "            valid = True\n",
    "            available = space_check(board, int(choice))\n",
    "            \n",
    "            if not available:\n",
    "                print(\"Sorry, this position is not available on the board.\\n\")\n",
    "                \n",
    "            \n",
    "    return int(choice)"
   ]
  },
  {
   "cell_type": "markdown",
   "id": "dba294d3",
   "metadata": {},
   "source": [
    "TEST"
   ]
  },
  {
   "cell_type": "code",
   "execution_count": 16,
   "id": "528f2bc6",
   "metadata": {},
   "outputs": [],
   "source": [
    "test_board = ['#', ' ', 'X', 'O', 'X', 'O', ' ', ' ', '$', 'O']"
   ]
  },
  {
   "cell_type": "code",
   "execution_count": 17,
   "id": "b73c6051",
   "metadata": {},
   "outputs": [
    {
     "name": "stdout",
     "output_type": "stream",
     "text": [
      "     |     |        \n",
      "     |  X  |  O     \n",
      "     |     |        \n",
      "-----------------\n",
      "     |     |        \n",
      "  X  |  O  |        \n",
      "     |     |        \n",
      "-----------------\n",
      "     |     |        \n",
      "     |  $  |  O     \n",
      "     |     |        \n"
     ]
    }
   ],
   "source": [
    "display_board(test_board)"
   ]
  },
  {
   "cell_type": "code",
   "execution_count": 18,
   "id": "01b836f0",
   "metadata": {},
   "outputs": [
    {
     "name": "stdout",
     "output_type": "stream",
     "text": [
      "Choose your next position: 4\n",
      "Sorry, this position is not available on the board.\n",
      "\n",
      "Choose your next position: 6\n"
     ]
    },
    {
     "data": {
      "text/plain": [
       "6"
      ]
     },
     "execution_count": 18,
     "metadata": {},
     "output_type": "execute_result"
    }
   ],
   "source": [
    "player_choice(test_board)"
   ]
  },
  {
   "cell_type": "markdown",
   "id": "6bd1ec13",
   "metadata": {},
   "source": [
    "**Step 9: Write a function that asks the player if they want to play again and returns a boolean True if they do want to play again.**"
   ]
  },
  {
   "cell_type": "code",
   "execution_count": 19,
   "id": "13445e3e",
   "metadata": {},
   "outputs": [],
   "source": [
    "def replay():\n",
    "    choice = \" \"\n",
    "    \n",
    "    while choice not in [\"Y\", \"y\", \"N\", \"n\"]:\n",
    "        choice = input(\"Would you like to play again? (Y/N) \\n\")\n",
    "        \n",
    "    if choice == 'Y' or choice == 'y':\n",
    "        return True\n",
    "    \n",
    "    print(\"Thank you for playing. Hope you had fun!\\n\")\n",
    "    \n",
    "    return False"
   ]
  },
  {
   "cell_type": "markdown",
   "id": "e460a827",
   "metadata": {},
   "source": [
    "TEST"
   ]
  },
  {
   "cell_type": "code",
   "execution_count": 20,
   "id": "56bf1219",
   "metadata": {},
   "outputs": [
    {
     "name": "stdout",
     "output_type": "stream",
     "text": [
      "Would you like to play again? (Y/N) \n",
      "n\n",
      "Thank you for playing. Hope you had fun!\n",
      "\n"
     ]
    },
    {
     "data": {
      "text/plain": [
       "False"
      ]
     },
     "execution_count": 20,
     "metadata": {},
     "output_type": "execute_result"
    }
   ],
   "source": [
    "replay()"
   ]
  },
  {
   "cell_type": "markdown",
   "id": "a11b3152",
   "metadata": {},
   "source": [
    "## Step 10: Use while loops and the functions you've made to run the game!"
   ]
  },
  {
   "cell_type": "code",
   "execution_count": 21,
   "id": "3a685e4e",
   "metadata": {},
   "outputs": [
    {
     "name": "stdout",
     "output_type": "stream",
     "text": [
      "     |     |        \n",
      "  O  |  X  |  O     \n",
      "     |     |        \n",
      "-----------------\n",
      "     |     |        \n",
      "  O  |  X  |  X     \n",
      "     |     |        \n",
      "-----------------\n",
      "     |     |        \n",
      "  X  |  O  |  O     \n",
      "     |     |        \n",
      "\n",
      "The game ended in a tie. \n",
      "\n",
      "Would you like to play again? (Y/N) \n",
      "n\n",
      "Thank you for playing. Hope you had fun!\n",
      "\n"
     ]
    }
   ],
   "source": [
    "# VARIABLES\n",
    "\n",
    "p1_marker = None\n",
    "p2_marker = None\n",
    "\n",
    "first = None\n",
    "second = None\n",
    "\n",
    "i = 1    # Variable to alternate between first and second player's markers\n",
    "\n",
    "play_again = True\n",
    "\n",
    "\n",
    "# LOGIC\n",
    "\n",
    "while play_again:\n",
    "    \n",
    "    # Create a New Board\n",
    "    board = ['#'] + [\" \"] * 9\n",
    "    \n",
    "    # Display Board\n",
    "    display_board(board)\n",
    "    \n",
    "    # Choosing Markers for Player 1 and Player 2\n",
    "    (p1_marker, p2_marker) = player_input()\n",
    "    \n",
    "    # Choosing who goes first\n",
    "    if choose_first() == 'p1':\n",
    "        first = p1_marker\n",
    "        second = p2_marker\n",
    "    else:\n",
    "        first = p2_marker\n",
    "        second = p1_marker\n",
    "    \n",
    "    # Playing Loop\n",
    "    while full_board_check(board) == False:\n",
    "               \n",
    "        # Asking for a Position to place the marker\n",
    "        position = player_choice(board)\n",
    "        \n",
    "        # Placing the marker on the above position entered by the User\n",
    "        if i%2 == 0:\n",
    "            place_marker(board, second, position)\n",
    "        else:\n",
    "            place_marker(board, first, position)\n",
    "            \n",
    "        # Displaying the Updated Board after each turn\n",
    "        display_board(board)\n",
    "            \n",
    "        # Checking if any player won\n",
    "        if win_check(board, p1_marker):\n",
    "            print(\"\\nCongratulations Player 1! You won!\\n\")\n",
    "            break\n",
    "            \n",
    "        if win_check(board, p2_marker):\n",
    "            print(\"\\nCongratulations Player 2! You won!\\n\")\n",
    "            break\n",
    "            \n",
    "        # Updating the value of i\n",
    "        i += 1\n",
    "            \n",
    "    # Condition for Tie\n",
    "    if win_check(board, p1_marker) == False and win_check(board, p2_marker) == False:\n",
    "        print(\"\\nThe game ended in a tie. \\n\")\n",
    "    \n",
    "    # Ask if PLayers want to play again\n",
    "    play_again = replay()"
   ]
  }
 ],
 "metadata": {
  "kernelspec": {
   "display_name": "Python 3 (ipykernel)",
   "language": "python",
   "name": "python3"
  },
  "language_info": {
   "codemirror_mode": {
    "name": "ipython",
    "version": 3
   },
   "file_extension": ".py",
   "mimetype": "text/x-python",
   "name": "python",
   "nbconvert_exporter": "python",
   "pygments_lexer": "ipython3",
   "version": "3.9.12"
  }
 },
 "nbformat": 4,
 "nbformat_minor": 5
}
